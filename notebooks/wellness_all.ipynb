{
 "cells": [
  {
   "cell_type": "code",
   "execution_count": null,
   "metadata": {},
   "outputs": [],
   "source": [
    "%load_ext autoreload\n",
    "%autoreload 2\n",
    "%matplotlib inline\n",
    "\n",
    "from IPython.core.display import display, HTML\n",
    "import pandas as pd\n",
    "import matplotlib as mpl\n",
    "import matplotlib.pyplot as plt\n",
    "import random\n",
    "from string import Template\n",
    "import json\n",
    "import sys \n",
    "sys.path.append('..')\n",
    "# coEgoNetworks\n",
    "import src.coegonets as cnets\n",
    "import src.notebook as nb"
   ]
  },
  {
   "cell_type": "code",
   "execution_count": null,
   "metadata": {},
   "outputs": [],
   "source": [
    "STYLE='bmh'\n",
    "plt.style.use(STYLE)\n",
    "font = {'family' : 'normal',\n",
    "        'size'   : 12}\n",
    "mpl.rc('font', **font)\n",
    "mpl.rc('legend',fontsize=12)\n",
    "mpl.rc('xtick',labelsize=12)\n",
    "mpl.rc('ytick',labelsize=12)\n",
    "mpl.rc('axes',facecolor=\"white\",labelsize=12)\n",
    "# mpl.rc('text', usetex=True)\n",
    "PLOT_WIDTH  = 14\n",
    "PLOT_HEIGHT = 7"
   ]
  },
  {
   "cell_type": "code",
   "execution_count": null,
   "metadata": {
    "scrolled": true
   },
   "outputs": [],
   "source": [
    "#Load Data\n",
    "DATA_PATH=\"../DATA/pkl/wellness_all.gz\"\n",
    "C = cnets.getDF(path=DATA_PATH)\n"
   ]
  },
  {
   "cell_type": "code",
   "execution_count": null,
   "metadata": {},
   "outputs": [],
   "source": [
    "#top K occurrences\n",
    "K=10\n",
    "oc = nb.top_k(C, K)\n",
    "f,ax = plt.subplots(1,1,figsize=(PLOT_WIDTH,PLOT_HEIGHT),sharey=True)\n",
    "oc.plot(ax=ax,kind=\"bar\", rot=45)\n",
    "f.suptitle(\"Top {} Hashtag Frequency\".format(K))"
   ]
  },
  {
   "cell_type": "code",
   "execution_count": null,
   "metadata": {},
   "outputs": [],
   "source": [
    "#top K co-occurrences\n",
    "target_word = \"#wellness\"\n",
    "cooc = nb.top_k_cooc(C,target_word,K, True)\n",
    "f,ax = plt.subplots(1,1,figsize=(PLOT_WIDTH,PLOT_HEIGHT),sharey=True)\n",
    "cooc.plot(ax=ax,kind=\"bar\", rot=45)\n",
    "f.suptitle(\"{}: top {} coocurrences\".format(target_word, K))"
   ]
  },
  {
   "cell_type": "code",
   "execution_count": null,
   "metadata": {},
   "outputs": [],
   "source": [
    "# load javascript for sigma JS \n",
    "HTML('''<script src=\"./sigma.min.js\"></script>\n",
    "<script src=\"./sigma.layout.forceAtlas2.min.js\"></script>\n",
    "<script src=\"./sigma.renderers.snapshot.min.js\"></script>\n",
    "<script src=\"./sigma.exporters.svg.min.js\"></script>''')"
   ]
  },
  {
   "cell_type": "code",
   "execution_count": null,
   "metadata": {},
   "outputs": [],
   "source": [
    "#plot top co-occurrences\n",
    "top_words = list(cooc.keys())\n",
    "graph = nb.sigmaJSGraph(C, top_words, style=STYLE) \n",
    "HTML(graph) "
   ]
  },
  {
   "cell_type": "code",
   "execution_count": null,
   "metadata": {},
   "outputs": [],
   "source": []
  }
 ],
 "metadata": {
  "kernelspec": {
   "display_name": "Python 3",
   "language": "python",
   "name": "python3"
  },
  "language_info": {
   "codemirror_mode": {
    "name": "ipython",
    "version": 3
   },
   "file_extension": ".py",
   "mimetype": "text/x-python",
   "name": "python",
   "nbconvert_exporter": "python",
   "pygments_lexer": "ipython3",
   "version": "3.7.1"
  }
 },
 "nbformat": 4,
 "nbformat_minor": 2
}
