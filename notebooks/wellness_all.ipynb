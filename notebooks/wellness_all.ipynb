{
 "cells": [
  {
   "cell_type": "code",
   "execution_count": null,
   "metadata": {},
   "outputs": [],
   "source": [
    "%load_ext autoreload\n",
    "%autoreload 2\n",
    "%matplotlib inline\n",
    "\n",
    "from IPython.core.display import display, HTML\n",
    "import pandas as pd\n",
    "import matplotlib as mpl\n",
    "import matplotlib.pyplot as plt\n",
    "import random\n",
    "from string import Template\n",
    "import json\n",
    "import sys \n",
    "sys.path.append('..')\n",
    "# coEgoNetworks\n",
    "import src.coegonets as cnets\n",
    "import src.notebook as nb"
   ]
  },
  {
   "cell_type": "code",
   "execution_count": null,
   "metadata": {},
   "outputs": [],
   "source": [
    "STYLE='bmh'\n",
    "plt.style.use(STYLE)\n",
    "font = {'family' : 'normal',\n",
    "        'size'   : 12}\n",
    "mpl.rc('font', **font)\n",
    "mpl.rc('legend',fontsize=12)\n",
    "mpl.rc('xtick',labelsize=12)\n",
    "mpl.rc('ytick',labelsize=12)\n",
    "mpl.rc('axes',facecolor=\"white\",labelsize=12)\n",
    "# mpl.rc('text', usetex=True)\n",
    "PLOT_WIDTH  = 14\n",
    "PLOT_HEIGHT = 7"
   ]
  },
  {
   "cell_type": "code",
   "execution_count": null,
   "metadata": {
    "scrolled": true
   },
   "outputs": [],
   "source": [
    "#Load Data\n",
    "DATA_PATH=\"../DATA/pkl/wellness_all.gz\"\n",
    "C = cnets.getDF(path=DATA_PATH)\n"
   ]
  },
  {
   "cell_type": "code",
   "execution_count": null,
   "metadata": {},
   "outputs": [],
   "source": [
    "#top K occurrences\n",
    "K=10\n",
    "oc = nb.top_k(C, K)\n",
    "f,ax = plt.subplots(1,1,figsize=(PLOT_WIDTH,PLOT_HEIGHT),sharey=True)\n",
    "oc.plot(ax=ax,kind=\"bar\", rot=45)\n",
    "f.suptitle(\"Top {} Hashtag Frequency\".format(K))"
   ]
  },
  {
   "cell_type": "code",
   "execution_count": null,
   "metadata": {},
   "outputs": [],
   "source": [
    "#top K co-occurrences\n",
    "target_word = \"#wellness\"\n",
    "cooc = nb.top_k_cooc(C,target_word,K, True)\n",
    "f,ax = plt.subplots(1,1,figsize=(PLOT_WIDTH,PLOT_HEIGHT),sharey=True)\n",
    "cooc.plot(ax=ax,kind=\"bar\", rot=45)\n",
    "f.suptitle(\"{}: top {} coocurrences\".format(target_word, K))"
   ]
  },
  {
   "cell_type": "code",
   "execution_count": 13,
   "metadata": {},
   "outputs": [
    {
     "data": {
      "text/html": [
       "<script src=\"./js/sigma.min.js\"></script>\n",
       "<script src=\"./js/sigma.layout.forceAtlas2.min.js\"></script>\n",
       "<script src=\"./js/sigma.renderers.snapshot.min.js\"></script>\n",
       "<script src=\"./js/sigma.exporters.svg.min.js\"></script>"
      ],
      "text/plain": [
       "<IPython.core.display.HTML object>"
      ]
     },
     "execution_count": 13,
     "metadata": {},
     "output_type": "execute_result"
    }
   ],
   "source": [
    "# load javascript for sigma JS \n",
    "HTML('''<script src=\"./js/sigma.min.js\"></script>\n",
    "<script src=\"./js/sigma.layout.forceAtlas2.min.js\"></script>\n",
    "<script src=\"./js/sigma.renderers.snapshot.min.js\"></script>\n",
    "<script src=\"./js/sigma.exporters.svg.min.js\"></script>''')"
   ]
  },
  {
   "cell_type": "code",
   "execution_count": 14,
   "metadata": {},
   "outputs": [
    {
     "data": {
      "text/html": [
       "\n",
       "<p id=\"svg_text\"></p>\n",
       "<br>\n",
       "<div id=\"graph-69ea9fb7-94e5-448d-b55a-8bf014703679\" style=\"height:500px; position:relative\"></div>\n",
       "<button id=\"layout\" type=\"button\" style=\" background-color:#B22222 border-radius: 4px;\"> stop force</button>\n",
       "<button id=\"svg\" type=\"SVG\" style=\"border-radius: 4px;\">snapshot</button>\n",
       "<button id=\"export\" type=\"PNG\" style=\"border-radius: 4px;\">export</button>\n",
       "<script> \n",
       "    \n",
       "    g = {\"nodes\": [{\"label\": \"#fitness\", \"x\": 0.6394267984578837, \"y\": 0.025010755222666936, \"id\": 0, \"size\": 10921, \"color\": \"#348ABD\"}, {\"label\": \"#yoga\", \"x\": 0.27502931836911926, \"y\": 0.22321073814882275, \"id\": 1, \"size\": 4709, \"color\": \"#A60628\"}, {\"label\": \"#exercise\", \"x\": 0.7364712141640124, \"y\": 0.6766994874229113, \"id\": 2, \"size\": 2758, \"color\": \"#7A68A6\"}, {\"label\": \"#wellbeing\", \"x\": 0.8921795677048454, \"y\": 0.08693883262941615, \"id\": 3, \"size\": 1720, \"color\": \"#467821\"}, {\"label\": \"#holistic\", \"x\": 0.4219218196852704, \"y\": 0.029797219438070344, \"id\": 4, \"size\": 2230, \"color\": \"#D55E00\"}, {\"label\": \"#nutrition\", \"x\": 0.21863797480360336, \"y\": 0.5053552881033624, \"id\": 5, \"size\": 6666, \"color\": \"#CC79A7\"}, {\"label\": \"#manifesting\", \"x\": 0.026535969683863625, \"y\": 0.1988376506866485, \"id\": 6, \"size\": 1462, \"color\": \"#56B4E9\"}, {\"label\": \"#health\", \"x\": 0.6498844377795232, \"y\": 0.5449414806032167, \"id\": 7, \"size\": 37251, \"color\": \"#009E73\"}, {\"label\": \"#talkradio\", \"x\": 0.2204406220406967, \"y\": 0.5892656838759087, \"id\": 8, \"size\": 1163, \"color\": \"#F0E442\"}, {\"label\": \"#healing\", \"x\": 0.8094304566778266, \"y\": 0.006498759678061017, \"id\": 9, \"size\": 2319, \"color\": \"#0072B2\"}], \"edges\": [{\"source\": 0, \"target\": 1, \"id\": 0, \"size\": 565, \"color\": \"#ccc\"}, {\"source\": 0, \"target\": 2, \"id\": 1, \"size\": 322, \"color\": \"#ccc\"}, {\"source\": 0, \"target\": 3, \"id\": 2, \"size\": 12, \"color\": \"#ccc\"}, {\"source\": 0, \"target\": 4, \"id\": 3, \"size\": 3, \"color\": \"#ccc\"}, {\"source\": 0, \"target\": 5, \"id\": 4, \"size\": 389, \"color\": \"#ccc\"}, {\"source\": 0, \"target\": 6, \"id\": 5, \"size\": 1459, \"color\": \"#ccc\"}, {\"source\": 0, \"target\": 7, \"id\": 6, \"size\": 1280, \"color\": \"#ccc\"}, {\"source\": 0, \"target\": 8, \"id\": 7, \"size\": 27, \"color\": \"#ccc\"}, {\"source\": 0, \"target\": 9, \"id\": 8, \"size\": 2, \"color\": \"#ccc\"}, {\"source\": 1, \"target\": 2, \"id\": 9, \"size\": 77, \"color\": \"#ccc\"}, {\"source\": 1, \"target\": 3, \"id\": 10, \"size\": 8, \"color\": \"#ccc\"}, {\"source\": 1, \"target\": 4, \"id\": 11, \"size\": 9, \"color\": \"#ccc\"}, {\"source\": 1, \"target\": 5, \"id\": 12, \"size\": 6, \"color\": \"#ccc\"}, {\"source\": 1, \"target\": 6, \"id\": 13, \"size\": 1459, \"color\": \"#ccc\"}, {\"source\": 1, \"target\": 7, \"id\": 14, \"size\": 303, \"color\": \"#ccc\"}, {\"source\": 1, \"target\": 9, \"id\": 16, \"size\": 71, \"color\": \"#ccc\"}, {\"source\": 2, \"target\": 3, \"id\": 17, \"size\": 22, \"color\": \"#ccc\"}, {\"source\": 2, \"target\": 4, \"id\": 18, \"size\": 11, \"color\": \"#ccc\"}, {\"source\": 2, \"target\": 5, \"id\": 19, \"size\": 209, \"color\": \"#ccc\"}, {\"source\": 2, \"target\": 7, \"id\": 21, \"size\": 9, \"color\": \"#ccc\"}, {\"source\": 2, \"target\": 9, \"id\": 23, \"size\": 323, \"color\": \"#ccc\"}, {\"source\": 3, \"target\": 4, \"id\": 24, \"size\": 1, \"color\": \"#ccc\"}, {\"source\": 3, \"target\": 5, \"id\": 25, \"size\": 2, \"color\": \"#ccc\"}, {\"source\": 3, \"target\": 7, \"id\": 27, \"size\": 3, \"color\": \"#ccc\"}, {\"source\": 3, \"target\": 9, \"id\": 29, \"size\": 1, \"color\": \"#ccc\"}, {\"source\": 4, \"target\": 5, \"id\": 30, \"size\": 3, \"color\": \"#ccc\"}, {\"source\": 4, \"target\": 6, \"id\": 31, \"size\": 1459, \"color\": \"#ccc\"}, {\"source\": 4, \"target\": 7, \"id\": 32, \"size\": 1783, \"color\": \"#ccc\"}, {\"source\": 4, \"target\": 9, \"id\": 34, \"size\": 65, \"color\": \"#ccc\"}, {\"source\": 5, \"target\": 7, \"id\": 36, \"size\": 42, \"color\": \"#ccc\"}, {\"source\": 5, \"target\": 8, \"id\": 37, \"size\": 472, \"color\": \"#ccc\"}, {\"source\": 5, \"target\": 9, \"id\": 38, \"size\": 102, \"color\": \"#ccc\"}, {\"source\": 6, \"target\": 7, \"id\": 39, \"size\": 1459, \"color\": \"#ccc\"}, {\"source\": 6, \"target\": 9, \"id\": 41, \"size\": 1, \"color\": \"#ccc\"}, {\"source\": 7, \"target\": 8, \"id\": 42, \"size\": 617, \"color\": \"#ccc\"}, {\"source\": 7, \"target\": 9, \"id\": 43, \"size\": 1153, \"color\": \"#ccc\"}]}\n",
       "\n",
       "    // Instantiate sigma:\n",
       "    s = new sigma({graph: g,\n",
       "            container: \"graph-69ea9fb7-94e5-448d-b55a-8bf014703679\",\n",
       "            settings: {\n",
       "            minEdgeSize: 1,\n",
       "            maxEdgeSize: 10,\n",
       "            minNodeSize: 10,\n",
       "            maxNodeSize: 30,\n",
       "            edgeColor: \"#ccc\",\n",
       "            labelColor:\"node\",\n",
       "            labelSize:\"proportional\"} } );\n",
       "\n",
       "atlas_conf = {worker: true, barnesHutOptimize: false, \n",
       "                startingIterations:100, iterationsPerRender:2000,\n",
       "                edgeWeightInfluence:1,\n",
       "                slowDown:10,\n",
       "                scalingRatio:1},\n",
       "\n",
       "s.startForceAtlas2(atlas_conf);\n",
       "\n",
       "var force = true;\n",
       "svg_display = false;\n",
       "\n",
       "setTimeout( function(){\n",
       "     s.stopForceAtlas2();\n",
       "force=false;\n",
       " }, 8000)\n",
       "\n",
       "// Listeners\n",
       "document.getElementById('layout').onclick = function() {\n",
       "  if (!force){\n",
       "    s.startForceAtlas2(atlas_conf);\n",
       "    btn = document.getElementById('layout')\n",
       "    btn.innerHTML = \"Stop Force\"\n",
       "    btn.style.backgroundColor = \"#B22222\"\n",
       "    \n",
       "    }\n",
       "  else{\n",
       "    s.stopForceAtlas2();\n",
       "    btn = document.getElementById('layout')\n",
       "    btn.innerHTML = \"Start Force\"\n",
       "    btn.style.backgroundColor = \"#228B22\"\n",
       "    \n",
       "    }\n",
       "  force = !force;\n",
       "  \n",
       "};\n",
       "\n",
       "document.getElementById('export').onclick = function() {\n",
       "  s.renderers[0].snapshot({format: 'jpg', background: 'white', filename: 'my-graph.png', download: true, labels: true})\n",
       "};\n",
       "\n",
       "document.getElementById('svg').onclick = function() {\n",
       "    svg_display = !svg_display\n",
       "    if(svg_display){\n",
       "        s = s.toSVG({download: false, labels:true, filename: 'mygraph.svg', size: 50})\n",
       "        document.getElementById(\"svg_text\").innerHTML = \"*** \" + s + \" ***\"\n",
       "        alert(s);\n",
       "        document.getElementById(\"graph-69ea9fb7-94e5-448d-b55a-8bf014703679\").style.display = \"none\";\n",
       "        document.getElementById('svg').innerHTML = \"plot\"\n",
       "    }else{\n",
       "        document.getElementById(\"svg_text\").innerHTML = \"\";\n",
       "        document.getElementById(\"graph-69ea9fb7-94e5-448d-b55a-8bf014703679\").style.display = \"block\";\n",
       "        document.getElementById('svg').innerHTML = \"snapshot\"\n",
       "    }\n",
       "};\n",
       "\n",
       " </script>\n"
      ],
      "text/plain": [
       "<IPython.core.display.HTML object>"
      ]
     },
     "execution_count": 14,
     "metadata": {},
     "output_type": "execute_result"
    }
   ],
   "source": [
    "#plot top co-occurrences\n",
    "top_words = list(cooc.keys())\n",
    "graph = nb.sigmaJSGraph(C, top_words, style=STYLE) \n",
    "HTML(graph) "
   ]
  },
  {
   "cell_type": "code",
   "execution_count": null,
   "metadata": {},
   "outputs": [],
   "source": []
  }
 ],
 "metadata": {
  "kernelspec": {
   "display_name": "Python 3",
   "language": "python",
   "name": "python3"
  },
  "language_info": {
   "codemirror_mode": {
    "name": "ipython",
    "version": 3
   },
   "file_extension": ".py",
   "mimetype": "text/x-python",
   "name": "python",
   "nbconvert_exporter": "python",
   "pygments_lexer": "ipython3",
   "version": "3.7.1"
  }
 },
 "nbformat": 4,
 "nbformat_minor": 2
}
