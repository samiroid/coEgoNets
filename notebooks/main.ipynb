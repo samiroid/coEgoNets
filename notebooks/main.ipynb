{
 "cells": [
  {
   "cell_type": "code",
   "execution_count": null,
   "metadata": {},
   "outputs": [],
   "source": [
    "%load_ext autoreload\n",
    "%autoreload 2\n",
    "%matplotlib inline\n",
    "\n",
    "from IPython.core.display import display, HTML\n",
    "import pandas as pd\n",
    "import matplotlib as mpl\n",
    "import matplotlib.pyplot as plt\n",
    "import random\n",
    "from string import Template\n",
    "import json\n",
    "import sys \n",
    "sys.path.append('..')\n",
    "# coEgoNetworks\n",
    "import src.coegonets as cnets\n",
    "import src.notebook as nb"
   ]
  },
  {
   "cell_type": "code",
   "execution_count": null,
   "metadata": {},
   "outputs": [],
   "source": [
    "# load javascript for sigma JS \n",
    "HTML('''<script src=\"./js/sigma.min.js\"></script>\n",
    "<script src=\"./js/sigma.layout.forceAtlas2.min.js\"></script>\n",
    "<script src=\"./js/sigma.renderers.snapshot.min.js\"></script>\n",
    "<script src=\"./js/sigma.exporters.svg.min.js\"></script>\n",
    "<script src=\"./js/sigma.renderers.parallelEdges.min.js\"></script>\n",
    "<script src=\"./js/sigma.plugins.dragNodes.min.js\"></script>\n",
    "<script src=\"./js/sigma.plugins.filter.min.js\"></script>\n",
    "<script src=\"./js/sigma.renderers.edgeLabels.min\"></script>''')"
   ]
  },
  {
   "cell_type": "code",
   "execution_count": null,
   "metadata": {},
   "outputs": [],
   "source": [
    "STYLE='bmh'\n",
    "plt.style.use(STYLE)\n",
    "font = {'family' : 'sans-serif',\n",
    "        'size'   : 12}\n",
    "mpl.rc('font', **font)\n",
    "mpl.rc('legend',fontsize=12)\n",
    "mpl.rc('xtick',labelsize=12)\n",
    "mpl.rc('ytick',labelsize=12)\n",
    "mpl.rc('axes',facecolor=\"white\",labelsize=12)\n",
    "# mpl.rc('text', usetex=True)\n",
    "PLOT_WIDTH  = 14\n",
    "PLOT_HEIGHT = 7"
   ]
  },
  {
   "cell_type": "code",
   "execution_count": null,
   "metadata": {},
   "outputs": [],
   "source": [
    "def run_all(data, target_word, filter_all, top_k, year=\"all\"):\n",
    "    T = cnets.read_data(data, filter_all=filter_all)\n",
    "    cooc_normalizer = len(T)\n",
    "    #build matrix\n",
    "    k, v = cnets.build_COOM(T)\n",
    "    C = cnets.getDF(k, v)\n",
    "    #top K occurrences\n",
    "    oc = nb.top_k(C, top_k)\n",
    "    f,ax = plt.subplots(1,1,figsize=(PLOT_WIDTH,PLOT_HEIGHT),sharey=True)\n",
    "    oc.plot(ax=ax,kind=\"bar\", rot=45)\n",
    "    f.suptitle(\"Top {} Hashtag Frequency ({})\".format(top_k, year))\n",
    "    #top K co-occurrences\n",
    "    cooc = nb.top_k_cooc(C,target_word,K, normalizer=cooc_normalizer)\n",
    "    g,ax2 = plt.subplots(1,1,figsize=(PLOT_WIDTH,PLOT_HEIGHT),sharey=True)\n",
    "    cooc.plot(ax=ax2,kind=\"bar\", rot=45)\n",
    "    g.suptitle(\"{}: top {} coocurrences\".format(target_word, K, year))\n",
    "    plt.show()\n",
    "    #plot top co-occurrences\n",
    "    top_words = list(cooc.keys())\n",
    "    graph = nb.graph(C, top_words, target_word, top_k_edges=None, style=STYLE)\n",
    "    g = nb.sigmaJSGraph(graph) \n",
    "    return HTML(g) "
   ]
  },
  {
   "cell_type": "code",
   "execution_count": null,
   "metadata": {},
   "outputs": [],
   "source": [
    "DATA_PATH=\"../DATA/txt/wellness_all\"\n",
    "target_word=\"#wellness\"\n",
    "run_all(DATA_PATH, [target_word], 10)"
   ]
  },
  {
   "cell_type": "markdown",
   "metadata": {},
   "source": [
    "## Manual Analysis"
   ]
  },
  {
   "cell_type": "code",
   "execution_count": null,
   "metadata": {
    "scrolled": true
   },
   "outputs": [],
   "source": [
    "#Read data and filter by target word\n",
    "DATA_PATH=\"../DATA/txt/wellness_all\"\n",
    "target_word=\"#wellness\"\n",
    "secondary_target=\"#fitness\"\n",
    "\n",
    "T = cnets.read_data(DATA_PATH, filter_all=[target_word,secondary_target])\n",
    "cooc_normalizer = len(T)"
   ]
  },
  {
   "cell_type": "code",
   "execution_count": null,
   "metadata": {
    "scrolled": true
   },
   "outputs": [],
   "source": [
    "#build matrix\n",
    "k, v = cnets.build_COOM(T)\n",
    "C = cnets.getDF(k, v)\n"
   ]
  },
  {
   "cell_type": "code",
   "execution_count": null,
   "metadata": {},
   "outputs": [],
   "source": [
    "#top K co-occurrences\n",
    "cooc = nb.top_k_cooc(C,target_word,K, normalizer=cooc_normalizer)\n",
    "f,ax = plt.subplots(1,1,figsize=(PLOT_WIDTH,PLOT_HEIGHT),sharey=True)\n",
    "cooc.plot(ax=ax,kind=\"bar\", rot=45)\n",
    "f.suptitle(\"{}: top {} coocurrences\".format(target_word, K))"
   ]
  },
  {
   "cell_type": "code",
   "execution_count": null,
   "metadata": {
    "scrolled": false
   },
   "outputs": [],
   "source": [
    "#plot top co-occurrences\n",
    "n=100\n",
    "top_words = v[1:n]\n",
    "graph = nb.graph(C, top_words, target_word, top_k_edges=None, style=STYLE)\n",
    "g = nb.sigmaJSGraph(graph) \n",
    "HTML(g) "
   ]
  },
  {
   "cell_type": "code",
   "execution_count": null,
   "metadata": {},
   "outputs": [],
   "source": []
  }
 ],
 "metadata": {
  "kernelspec": {
   "display_name": "Python 3",
   "language": "python",
   "name": "python3"
  },
  "language_info": {
   "codemirror_mode": {
    "name": "ipython",
    "version": 3
   },
   "file_extension": ".py",
   "mimetype": "text/x-python",
   "name": "python",
   "nbconvert_exporter": "python",
   "pygments_lexer": "ipython3",
   "version": "3.7.1"
  }
 },
 "nbformat": 4,
 "nbformat_minor": 2
}
