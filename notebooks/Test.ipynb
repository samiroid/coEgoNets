{
 "cells": [
  {
   "cell_type": "code",
   "execution_count": 4,
   "metadata": {},
   "outputs": [],
   "source": [
    "%load_ext autoreload\n",
    "%autoreload 2\n",
    "%matplotlib inline\n",
    "\n",
    "from IPython.core.display import display, HTML\n",
    "import pandas as pd\n",
    "import matplotlib as mpl\n",
    "import matplotlib.pyplot as plt\n",
    "import random\n",
    "from string import Template\n",
    "import json\n",
    "import sys \n",
    "sys.path.append('..')\n",
    "# coEgoNetworks\n",
    "import src.coegonets as cnets\n",
    "import src.notebook as nb"
   ]
  },
  {
   "cell_type": "code",
   "execution_count": 5,
   "metadata": {},
   "outputs": [],
   "source": [
    "STYLE='bmh'\n",
    "plt.style.use(STYLE)\n",
    "font = {'family' : 'normal',\n",
    "        'size'   : 12}\n",
    "mpl.rc('font', **font)\n",
    "mpl.rc('legend',fontsize=12)\n",
    "mpl.rc('xtick',labelsize=12)\n",
    "mpl.rc('ytick',labelsize=12)\n",
    "mpl.rc('axes',facecolor=\"white\",labelsize=12)\n",
    "# mpl.rc('text', usetex=True)\n",
    "PLOT_WIDTH  = 14\n",
    "PLOT_HEIGHT = 7"
   ]
  },
  {
   "cell_type": "code",
   "execution_count": 6,
   "metadata": {},
   "outputs": [
    {
     "data": {
      "text/html": [
       "<script src=\"./sigma.min.js\"></script>\n",
       "<script src=\"./sigma.layout.forceAtlas2.min.js\"></script>\n",
       "<script src=\"./sigma.renderers.snapshot.min.js\"></script>\n",
       "<script src=\"./sigma.exporters.svg.min.js\"></script>"
      ],
      "text/plain": [
       "<IPython.core.display.HTML object>"
      ]
     },
     "execution_count": 6,
     "metadata": {},
     "output_type": "execute_result"
    }
   ],
   "source": [
    "# load javascript for sigma JS \n",
    "HTML('''<script src=\"./sigma.min.js\"></script>\n",
    "<script src=\"./sigma.layout.forceAtlas2.min.js\"></script>\n",
    "<script src=\"./sigma.renderers.snapshot.min.js\"></script>\n",
    "<script src=\"./sigma.exporters.svg.min.js\"></script>''')"
   ]
  },
  {
   "cell_type": "code",
   "execution_count": 29,
   "metadata": {
    "scrolled": false
   },
   "outputs": [
    {
     "name": "stdout",
     "output_type": "stream",
     "text": [
      "4\n",
      "['word1 word2 word3', 'word1 word2 word3 word4 word5 word6', 'word1 word2 word3 word4 word5 ', 'word1 word2 word3 word5  word7']\n",
      " > processed 3\\4 docs | 19 tokens\n",
      " > done\n"
     ]
    },
    {
     "data": {
      "text/html": [
       "<div>\n",
       "<style scoped>\n",
       "    .dataframe tbody tr th:only-of-type {\n",
       "        vertical-align: middle;\n",
       "    }\n",
       "\n",
       "    .dataframe tbody tr th {\n",
       "        vertical-align: top;\n",
       "    }\n",
       "\n",
       "    .dataframe thead th {\n",
       "        text-align: right;\n",
       "    }\n",
       "</style>\n",
       "<table border=\"1\" class=\"dataframe\">\n",
       "  <thead>\n",
       "    <tr style=\"text-align: right;\">\n",
       "      <th></th>\n",
       "      <th>[COUNTS]</th>\n",
       "      <th>word1</th>\n",
       "      <th>word2</th>\n",
       "      <th>word3</th>\n",
       "      <th>word4</th>\n",
       "      <th>word5</th>\n",
       "      <th>word6</th>\n",
       "      <th>word7</th>\n",
       "    </tr>\n",
       "  </thead>\n",
       "  <tbody>\n",
       "    <tr>\n",
       "      <th>[COUNTS]</th>\n",
       "      <td>0</td>\n",
       "      <td>4</td>\n",
       "      <td>4</td>\n",
       "      <td>4</td>\n",
       "      <td>2</td>\n",
       "      <td>3</td>\n",
       "      <td>1</td>\n",
       "      <td>1</td>\n",
       "    </tr>\n",
       "    <tr>\n",
       "      <th>word1</th>\n",
       "      <td>4</td>\n",
       "      <td>0</td>\n",
       "      <td>4</td>\n",
       "      <td>4</td>\n",
       "      <td>2</td>\n",
       "      <td>3</td>\n",
       "      <td>1</td>\n",
       "      <td>1</td>\n",
       "    </tr>\n",
       "    <tr>\n",
       "      <th>word2</th>\n",
       "      <td>4</td>\n",
       "      <td>4</td>\n",
       "      <td>0</td>\n",
       "      <td>4</td>\n",
       "      <td>2</td>\n",
       "      <td>3</td>\n",
       "      <td>1</td>\n",
       "      <td>1</td>\n",
       "    </tr>\n",
       "    <tr>\n",
       "      <th>word3</th>\n",
       "      <td>4</td>\n",
       "      <td>4</td>\n",
       "      <td>4</td>\n",
       "      <td>0</td>\n",
       "      <td>2</td>\n",
       "      <td>3</td>\n",
       "      <td>1</td>\n",
       "      <td>1</td>\n",
       "    </tr>\n",
       "    <tr>\n",
       "      <th>word4</th>\n",
       "      <td>2</td>\n",
       "      <td>2</td>\n",
       "      <td>2</td>\n",
       "      <td>2</td>\n",
       "      <td>0</td>\n",
       "      <td>2</td>\n",
       "      <td>1</td>\n",
       "      <td>0</td>\n",
       "    </tr>\n",
       "    <tr>\n",
       "      <th>word5</th>\n",
       "      <td>3</td>\n",
       "      <td>3</td>\n",
       "      <td>3</td>\n",
       "      <td>3</td>\n",
       "      <td>2</td>\n",
       "      <td>0</td>\n",
       "      <td>1</td>\n",
       "      <td>1</td>\n",
       "    </tr>\n",
       "    <tr>\n",
       "      <th>word6</th>\n",
       "      <td>1</td>\n",
       "      <td>1</td>\n",
       "      <td>1</td>\n",
       "      <td>1</td>\n",
       "      <td>1</td>\n",
       "      <td>1</td>\n",
       "      <td>0</td>\n",
       "      <td>0</td>\n",
       "    </tr>\n",
       "    <tr>\n",
       "      <th>word7</th>\n",
       "      <td>1</td>\n",
       "      <td>1</td>\n",
       "      <td>1</td>\n",
       "      <td>1</td>\n",
       "      <td>0</td>\n",
       "      <td>1</td>\n",
       "      <td>0</td>\n",
       "      <td>0</td>\n",
       "    </tr>\n",
       "  </tbody>\n",
       "</table>\n",
       "</div>"
      ],
      "text/plain": [
       "          [COUNTS]  word1  word2  word3  word4  word5  word6  word7\n",
       "[COUNTS]         0      4      4      4      2      3      1      1\n",
       "word1            4      0      4      4      2      3      1      1\n",
       "word2            4      4      0      4      2      3      1      1\n",
       "word3            4      4      4      0      2      3      1      1\n",
       "word4            2      2      2      2      0      2      1      0\n",
       "word5            3      3      3      3      2      0      1      1\n",
       "word6            1      1      1      1      1      1      0      0\n",
       "word7            1      1      1      1      0      1      0      0"
      ]
     },
     "execution_count": 29,
     "metadata": {},
     "output_type": "execute_result"
    }
   ],
   "source": [
    "\n",
    "\n",
    "TB = [\"word1 word2 word3\",\n",
    "     \"word1\",\n",
    "     \"word2 word3\",\n",
    "     \"word1 word3\",\n",
    "     \"word1 word3\",\n",
    "     \"word1 word2\",\n",
    "     \"word1 word2\",\n",
    "     \"word1 word4 word5\",\n",
    "     \"word4\",\n",
    "     \"word3 word2\",\n",
    "     \"word7 word5\",\n",
    "     \"word5 word3\",\n",
    "     \"word4 word2\",\n",
    "     \"word3 word2\",\n",
    "     \"word1 word2 word3 word4 word5 word6\",\n",
    "    \"word1 word2 word3 word4 word5 \",\n",
    "    \"word1 word2 word3 word5  word7\",\n",
    "    \"word1 word2\" ,     \n",
    "    \"word1 word2\" ,\n",
    "]\n",
    "\n",
    "# T = [\"word1 word2 word3 word4 word5 word6\",\n",
    "#     \"word1 word2 word3 word4 word5 \",\n",
    "#     \"word1 word2 word3 word5  word7\",\n",
    "#     \"word1 word2\" ,     \n",
    "#     \"word1 word2\" ,]\n",
    "\n",
    "t = cnets.keyword_filter_all(TB, [\"word1\",\"word2\",\"word3\"])\n",
    "# print(TB)\n",
    "print(len(t))\n",
    "print(t)\n",
    "#build matrix\n",
    "c, v = cnets.build_COOM(t)\n",
    "C = cnets.getDF(C=c,V=v)\n",
    "C"
   ]
  },
  {
   "cell_type": "code",
   "execution_count": 21,
   "metadata": {},
   "outputs": [
    {
     "data": {
      "text/plain": [
       "Text(0.5, 0.98, 'Top 3 Hashtag Frequency')"
      ]
     },
     "execution_count": 21,
     "metadata": {},
     "output_type": "execute_result"
    },
    {
     "data": {
      "image/png": "[encoded data removed]",
      "text/plain": [
       "<Figure size 1008x504 with 1 Axes>"
      ]
     },
     "metadata": {
      "needs_background": "light"
     },
     "output_type": "display_data"
    }
   ],
   "source": [
    "#top K occurrences\n",
    "K=3\n",
    "oc = nb.top_k(C, K)\n",
    "f,ax = plt.subplots(1,1,figsize=(PLOT_WIDTH,PLOT_HEIGHT),sharey=True)\n",
    "oc.plot(ax=ax,kind=\"bar\", rot=45)\n",
    "f.suptitle(\"Top {} Hashtag Frequency\".format(K))"
   ]
  },
  {
   "cell_type": "code",
   "execution_count": 22,
   "metadata": {},
   "outputs": [
    {
     "data": {
      "text/plain": [
       "Text(0.5, 0.98, 'word1: top 3 coocurrences')"
      ]
     },
     "execution_count": 22,
     "metadata": {},
     "output_type": "execute_result"
    },
    {
     "data": {
      "image/png": "[encoded data removed]",
      "text/plain": [
       "<Figure size 1008x504 with 1 Axes>"
      ]
     },
     "metadata": {
      "needs_background": "light"
     },
     "output_type": "display_data"
    }
   ],
   "source": [
    "#top K co-occurrences\n",
    "target_word = \"word1\"\n",
    "cooc = nb.top_k_cooc(C,target_word,K, True)\n",
    "f,ax = plt.subplots(1,1,figsize=(PLOT_WIDTH,PLOT_HEIGHT),sharey=True)\n",
    "cooc.plot(ax=ax,kind=\"bar\", rot=45)\n",
    "f.suptitle(\"{}: top {} coocurrences\".format(target_word, K))"
   ]
  },
  {
   "cell_type": "code",
   "execution_count": 10,
   "metadata": {},
   "outputs": [
    {
     "ename": "TypeError",
     "evalue": "sigmaJSGraph() got an unexpected keyword argument 'style'",
     "output_type": "error",
     "traceback": [
      "\u001b[0;31m---------------------------------------------------------------------------\u001b[0m",
      "\u001b[0;31mTypeError\u001b[0m                                 Traceback (most recent call last)",
      "\u001b[0;32m<ipython-input-10-b30a800346ff>\u001b[0m in \u001b[0;36m<module>\u001b[0;34m\u001b[0m\n\u001b[1;32m      1\u001b[0m \u001b[0;31m#plot top co-occurrences\u001b[0m\u001b[0;34m\u001b[0m\u001b[0;34m\u001b[0m\u001b[0;34m\u001b[0m\u001b[0m\n\u001b[1;32m      2\u001b[0m \u001b[0mtop_words\u001b[0m \u001b[0;34m=\u001b[0m \u001b[0mlist\u001b[0m\u001b[0;34m(\u001b[0m\u001b[0mcooc\u001b[0m\u001b[0;34m.\u001b[0m\u001b[0mkeys\u001b[0m\u001b[0;34m(\u001b[0m\u001b[0;34m)\u001b[0m\u001b[0;34m)\u001b[0m\u001b[0;34m\u001b[0m\u001b[0;34m\u001b[0m\u001b[0m\n\u001b[0;32m----> 3\u001b[0;31m \u001b[0mgraph\u001b[0m \u001b[0;34m=\u001b[0m \u001b[0mnb\u001b[0m\u001b[0;34m.\u001b[0m\u001b[0msigmaJSGraph\u001b[0m\u001b[0;34m(\u001b[0m\u001b[0mC\u001b[0m\u001b[0;34m,\u001b[0m \u001b[0mtop_words\u001b[0m\u001b[0;34m,\u001b[0m \u001b[0mstyle\u001b[0m\u001b[0;34m=\u001b[0m\u001b[0mSTYLE\u001b[0m\u001b[0;34m)\u001b[0m\u001b[0;34m\u001b[0m\u001b[0;34m\u001b[0m\u001b[0m\n\u001b[0m\u001b[1;32m      4\u001b[0m \u001b[0mHTML\u001b[0m\u001b[0;34m(\u001b[0m\u001b[0mgraph\u001b[0m\u001b[0;34m)\u001b[0m\u001b[0;34m\u001b[0m\u001b[0;34m\u001b[0m\u001b[0m\n",
      "\u001b[0;31mTypeError\u001b[0m: sigmaJSGraph() got an unexpected keyword argument 'style'"
     ]
    }
   ],
   "source": [
    "#plot top co-occurrences\n",
    "top_words = list(cooc.keys())\n",
    "graph = nb.sigmaJSGraph(C, top_words, style=STYLE) \n",
    "HTML(graph) "
   ]
  },
  {
   "cell_type": "code",
   "execution_count": null,
   "metadata": {},
   "outputs": [],
   "source": []
  },
  {
   "cell_type": "code",
   "execution_count": null,
   "metadata": {},
   "outputs": [],
   "source": []
  }
 ],
 "metadata": {
  "kernelspec": {
   "display_name": "Python 3",
   "language": "python",
   "name": "python3"
  },
  "language_info": {
   "codemirror_mode": {
    "name": "ipython",
    "version": 3
   },
   "file_extension": ".py",
   "mimetype": "text/x-python",
   "name": "python",
   "nbconvert_exporter": "python",
   "pygments_lexer": "ipython3",
   "version": "3.7.1"
  }
 },
 "nbformat": 4,
 "nbformat_minor": 2
}
